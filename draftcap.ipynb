{
 "cells": [
  {
   "cell_type": "code",
   "execution_count": 3,
   "metadata": {},
   "outputs": [],
   "source": [
    "import pandas as pd"
   ]
  },
  {
   "cell_type": "code",
   "execution_count": 4,
   "metadata": {},
   "outputs": [],
   "source": [
    "# Read the CSV file into a DataFrame\n",
    "df = pd.read_csv('/Users/berkleys/Documents/Github-repository/DATA205-berkleysayaka/Capstone project/lar2018_100000.csv')\n"
   ]
  },
  {
   "cell_type": "code",
   "execution_count": 5,
   "metadata": {},
   "outputs": [
    {
     "name": "stdout",
     "output_type": "stream",
     "text": [
      "                      lei state_code  county_code derived_loan_product_type  \\\n",
      "0    549300SUCQ1358EGVE89         VA        51041             VA:First Lien   \n",
      "1    549300SUCQ1358EGVE89         VA        51041             VA:First Lien   \n",
      "2    549300SUCQ1358EGVE89         VA        51041             VA:First Lien   \n",
      "3    549300SUCQ1358EGVE89         VA        51041             VA:First Lien   \n",
      "4    549300SUCQ1358EGVE89         VA        51041             VA:First Lien   \n",
      "..                    ...        ...          ...                       ...   \n",
      "145  549300SUCQ1358EGVE89         VA        51041             VA:First Lien   \n",
      "146  549300SUCQ1358EGVE89         VA        51041             VA:First Lien   \n",
      "147  549300SUCQ1358EGVE89         VA        51041             VA:First Lien   \n",
      "148  549300SUCQ1358EGVE89         VA        51041             VA:First Lien   \n",
      "149  549300SUCQ1358EGVE89         VA        51041             VA:First Lien   \n",
      "\n",
      "                derived_dwelling_category       derived_ethnicity  \\\n",
      "0    Single Family (1-4 Units):Site-Built  Not Hispanic or Latino   \n",
      "1    Single Family (1-4 Units):Site-Built  Not Hispanic or Latino   \n",
      "2    Single Family (1-4 Units):Site-Built  Not Hispanic or Latino   \n",
      "3    Single Family (1-4 Units):Site-Built  Not Hispanic or Latino   \n",
      "4    Single Family (1-4 Units):Site-Built  Not Hispanic or Latino   \n",
      "..                                    ...                     ...   \n",
      "145  Single Family (1-4 Units):Site-Built  Not Hispanic or Latino   \n",
      "146  Single Family (1-4 Units):Site-Built  Not Hispanic or Latino   \n",
      "147  Single Family (1-4 Units):Site-Built  Not Hispanic or Latino   \n",
      "148  Single Family (1-4 Units):Site-Built  Not Hispanic or Latino   \n",
      "149  Single Family (1-4 Units):Site-Built  Not Hispanic or Latino   \n",
      "\n",
      "    derived_race derived_sex  loan_amount  combined_loan_to_value_ratio  ...  \\\n",
      "0          White        Male       225000                         100.0  ...   \n",
      "1          White        Male       225000                         100.0  ...   \n",
      "2          White        Male       225000                         100.0  ...   \n",
      "3          White        Male       225000                         100.0  ...   \n",
      "4          White        Male       225000                         100.0  ...   \n",
      "..           ...         ...          ...                           ...  ...   \n",
      "145        White        Male       225000                         100.0  ...   \n",
      "146        White        Male       225000                         100.0  ...   \n",
      "147        White        Male       225000                         100.0  ...   \n",
      "148        White        Male       225000                         100.0  ...   \n",
      "149        White        Male       225000                         100.0  ...   \n",
      "\n",
      "     income  debt_to_income_ratio  applicant_age  applicant_age_above_62  \\\n",
      "0        86               50%-60%          45-54                      No   \n",
      "1        86               50%-60%          45-54                      No   \n",
      "2        86               50%-60%          45-54                      No   \n",
      "3        86               50%-60%          45-54                      No   \n",
      "4        86               50%-60%          45-54                      No   \n",
      "..      ...                   ...            ...                     ...   \n",
      "145      86               50%-60%          45-54                      No   \n",
      "146      86               50%-60%          45-54                      No   \n",
      "147      86               50%-60%          45-54                      No   \n",
      "148      86               50%-60%          45-54                      No   \n",
      "149      86               50%-60%          45-54                      No   \n",
      "\n",
      "     tract_population  tract_minority_population_percent  census_tract_2022  \\\n",
      "0                7026                              47.61        20177003901   \n",
      "1                7026                              47.61        20177003901   \n",
      "2                7026                              47.61        20177003901   \n",
      "3                7026                              47.61        20177003901   \n",
      "4                7026                              47.61        20177003901   \n",
      "..                ...                                ...                ...   \n",
      "145              7026                              47.61        20177003901   \n",
      "146              7026                              47.61        20177003901   \n",
      "147              7026                              47.61        20177003901   \n",
      "148              7026                              47.61        20177003901   \n",
      "149              7026                              47.61        20177003901   \n",
      "\n",
      "     census_tract_2019 census_tract_2020 census_tract_2021  \n",
      "0                  NaN      2.501734e+10               NaN  \n",
      "1                  NaN      2.502776e+10               NaN  \n",
      "2                  NaN      2.502776e+10               NaN  \n",
      "3                  NaN      2.502773e+10               NaN  \n",
      "4                  NaN      2.502774e+10               NaN  \n",
      "..                 ...               ...               ...  \n",
      "145                NaN      2.502776e+10               NaN  \n",
      "146                NaN      2.501732e+10               NaN  \n",
      "147                NaN      2.502773e+10               NaN  \n",
      "148                NaN      2.502775e+10               NaN  \n",
      "149                NaN      2.501381e+10               NaN  \n",
      "\n",
      "[150 rows x 27 columns]\n"
     ]
    }
   ],
   "source": [
    "print(df.head(150))"
   ]
  },
  {
   "cell_type": "code",
   "execution_count": 7,
   "metadata": {},
   "outputs": [
    {
     "ename": "KeyError",
     "evalue": "'race'",
     "output_type": "error",
     "traceback": [
      "\u001b[0;31m---------------------------------------------------------------------------\u001b[0m",
      "\u001b[0;31mKeyError\u001b[0m                                  Traceback (most recent call last)",
      "File \u001b[0;32m~/Documents/Github-repository/.venv/lib/python3.9/site-packages/pandas/core/indexes/base.py:3805\u001b[0m, in \u001b[0;36mIndex.get_loc\u001b[0;34m(self, key)\u001b[0m\n\u001b[1;32m   3804\u001b[0m \u001b[38;5;28;01mtry\u001b[39;00m:\n\u001b[0;32m-> 3805\u001b[0m     \u001b[38;5;28;01mreturn\u001b[39;00m \u001b[38;5;28;43mself\u001b[39;49m\u001b[38;5;241;43m.\u001b[39;49m\u001b[43m_engine\u001b[49m\u001b[38;5;241;43m.\u001b[39;49m\u001b[43mget_loc\u001b[49m\u001b[43m(\u001b[49m\u001b[43mcasted_key\u001b[49m\u001b[43m)\u001b[49m\n\u001b[1;32m   3806\u001b[0m \u001b[38;5;28;01mexcept\u001b[39;00m \u001b[38;5;167;01mKeyError\u001b[39;00m \u001b[38;5;28;01mas\u001b[39;00m err:\n",
      "File \u001b[0;32mindex.pyx:167\u001b[0m, in \u001b[0;36mpandas._libs.index.IndexEngine.get_loc\u001b[0;34m()\u001b[0m\n",
      "File \u001b[0;32mindex.pyx:196\u001b[0m, in \u001b[0;36mpandas._libs.index.IndexEngine.get_loc\u001b[0;34m()\u001b[0m\n",
      "File \u001b[0;32mpandas/_libs/hashtable_class_helper.pxi:7081\u001b[0m, in \u001b[0;36mpandas._libs.hashtable.PyObjectHashTable.get_item\u001b[0;34m()\u001b[0m\n",
      "File \u001b[0;32mpandas/_libs/hashtable_class_helper.pxi:7089\u001b[0m, in \u001b[0;36mpandas._libs.hashtable.PyObjectHashTable.get_item\u001b[0;34m()\u001b[0m\n",
      "\u001b[0;31mKeyError\u001b[0m: 'race'",
      "\nThe above exception was the direct cause of the following exception:\n",
      "\u001b[0;31mKeyError\u001b[0m                                  Traceback (most recent call last)",
      "Cell \u001b[0;32mIn[7], line 1\u001b[0m\n\u001b[0;32m----> 1\u001b[0m asian_group \u001b[38;5;241m=\u001b[39m df[\u001b[43mdf\u001b[49m\u001b[43m[\u001b[49m\u001b[38;5;124;43m'\u001b[39;49m\u001b[38;5;124;43mrace\u001b[39;49m\u001b[38;5;124;43m'\u001b[39;49m\u001b[43m]\u001b[49m \u001b[38;5;241m==\u001b[39m \u001b[38;5;124m'\u001b[39m\u001b[38;5;124mAsian\u001b[39m\u001b[38;5;124m'\u001b[39m][\u001b[38;5;124m'\u001b[39m\u001b[38;5;124mtarget_column\u001b[39m\u001b[38;5;124m'\u001b[39m]\n\u001b[1;32m      2\u001b[0m hispanic_white_group \u001b[38;5;241m=\u001b[39m df[df[\u001b[38;5;124m'\u001b[39m\u001b[38;5;124mrace\u001b[39m\u001b[38;5;124m'\u001b[39m]\u001b[38;5;241m.\u001b[39misin([\u001b[38;5;124m'\u001b[39m\u001b[38;5;124mHispanic\u001b[39m\u001b[38;5;124m'\u001b[39m, \u001b[38;5;124m'\u001b[39m\u001b[38;5;124mWhite\u001b[39m\u001b[38;5;124m'\u001b[39m])][\u001b[38;5;124m'\u001b[39m\u001b[38;5;124mtarget_column\u001b[39m\u001b[38;5;124m'\u001b[39m]\n",
      "File \u001b[0;32m~/Documents/Github-repository/.venv/lib/python3.9/site-packages/pandas/core/frame.py:4102\u001b[0m, in \u001b[0;36mDataFrame.__getitem__\u001b[0;34m(self, key)\u001b[0m\n\u001b[1;32m   4100\u001b[0m \u001b[38;5;28;01mif\u001b[39;00m \u001b[38;5;28mself\u001b[39m\u001b[38;5;241m.\u001b[39mcolumns\u001b[38;5;241m.\u001b[39mnlevels \u001b[38;5;241m>\u001b[39m \u001b[38;5;241m1\u001b[39m:\n\u001b[1;32m   4101\u001b[0m     \u001b[38;5;28;01mreturn\u001b[39;00m \u001b[38;5;28mself\u001b[39m\u001b[38;5;241m.\u001b[39m_getitem_multilevel(key)\n\u001b[0;32m-> 4102\u001b[0m indexer \u001b[38;5;241m=\u001b[39m \u001b[38;5;28;43mself\u001b[39;49m\u001b[38;5;241;43m.\u001b[39;49m\u001b[43mcolumns\u001b[49m\u001b[38;5;241;43m.\u001b[39;49m\u001b[43mget_loc\u001b[49m\u001b[43m(\u001b[49m\u001b[43mkey\u001b[49m\u001b[43m)\u001b[49m\n\u001b[1;32m   4103\u001b[0m \u001b[38;5;28;01mif\u001b[39;00m is_integer(indexer):\n\u001b[1;32m   4104\u001b[0m     indexer \u001b[38;5;241m=\u001b[39m [indexer]\n",
      "File \u001b[0;32m~/Documents/Github-repository/.venv/lib/python3.9/site-packages/pandas/core/indexes/base.py:3812\u001b[0m, in \u001b[0;36mIndex.get_loc\u001b[0;34m(self, key)\u001b[0m\n\u001b[1;32m   3807\u001b[0m     \u001b[38;5;28;01mif\u001b[39;00m \u001b[38;5;28misinstance\u001b[39m(casted_key, \u001b[38;5;28mslice\u001b[39m) \u001b[38;5;129;01mor\u001b[39;00m (\n\u001b[1;32m   3808\u001b[0m         \u001b[38;5;28misinstance\u001b[39m(casted_key, abc\u001b[38;5;241m.\u001b[39mIterable)\n\u001b[1;32m   3809\u001b[0m         \u001b[38;5;129;01mand\u001b[39;00m \u001b[38;5;28many\u001b[39m(\u001b[38;5;28misinstance\u001b[39m(x, \u001b[38;5;28mslice\u001b[39m) \u001b[38;5;28;01mfor\u001b[39;00m x \u001b[38;5;129;01min\u001b[39;00m casted_key)\n\u001b[1;32m   3810\u001b[0m     ):\n\u001b[1;32m   3811\u001b[0m         \u001b[38;5;28;01mraise\u001b[39;00m InvalidIndexError(key)\n\u001b[0;32m-> 3812\u001b[0m     \u001b[38;5;28;01mraise\u001b[39;00m \u001b[38;5;167;01mKeyError\u001b[39;00m(key) \u001b[38;5;28;01mfrom\u001b[39;00m \u001b[38;5;21;01merr\u001b[39;00m\n\u001b[1;32m   3813\u001b[0m \u001b[38;5;28;01mexcept\u001b[39;00m \u001b[38;5;167;01mTypeError\u001b[39;00m:\n\u001b[1;32m   3814\u001b[0m     \u001b[38;5;66;03m# If we have a listlike key, _check_indexing_error will raise\u001b[39;00m\n\u001b[1;32m   3815\u001b[0m     \u001b[38;5;66;03m#  InvalidIndexError. Otherwise we fall through and re-raise\u001b[39;00m\n\u001b[1;32m   3816\u001b[0m     \u001b[38;5;66;03m#  the TypeError.\u001b[39;00m\n\u001b[1;32m   3817\u001b[0m     \u001b[38;5;28mself\u001b[39m\u001b[38;5;241m.\u001b[39m_check_indexing_error(key)\n",
      "\u001b[0;31mKeyError\u001b[0m: 'race'"
     ]
    }
   ],
   "source": [
    "asian_group = df[df['race'] == 'Asian']['target_column']\n",
    "hispanic_white_group = df[df['race'].isin(['Hispanic', 'White'])]['target_column']\n"
   ]
  }
 ],
 "metadata": {
  "kernelspec": {
   "display_name": ".venv",
   "language": "python",
   "name": "python3"
  },
  "language_info": {
   "codemirror_mode": {
    "name": "ipython",
    "version": 3
   },
   "file_extension": ".py",
   "mimetype": "text/x-python",
   "name": "python",
   "nbconvert_exporter": "python",
   "pygments_lexer": "ipython3",
   "version": "3.9.6"
  }
 },
 "nbformat": 4,
 "nbformat_minor": 2
}
